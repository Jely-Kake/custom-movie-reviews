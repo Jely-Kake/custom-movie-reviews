{
 "cells": [
  {
   "cell_type": "code",
   "execution_count": 1,
   "id": "6cf767a7",
   "metadata": {},
   "outputs": [],
   "source": [
    "import pandas as pd"
   ]
  },
  {
   "cell_type": "code",
   "execution_count": 2,
   "id": "3e8599da",
   "metadata": {},
   "outputs": [],
   "source": [
    "df = pd.read_csv(\"Movies.csv\",encoding='latin-1')"
   ]
  },
  {
   "cell_type": "code",
   "execution_count": 3,
   "id": "1e47afeb",
   "metadata": {},
   "outputs": [
    {
     "data": {
      "text/html": [
       "<div>\n",
       "<style scoped>\n",
       "    .dataframe tbody tr th:only-of-type {\n",
       "        vertical-align: middle;\n",
       "    }\n",
       "\n",
       "    .dataframe tbody tr th {\n",
       "        vertical-align: top;\n",
       "    }\n",
       "\n",
       "    .dataframe thead th {\n",
       "        text-align: right;\n",
       "    }\n",
       "</style>\n",
       "<table border=\"1\" class=\"dataframe\">\n",
       "  <thead>\n",
       "    <tr style=\"text-align: right;\">\n",
       "      <th></th>\n",
       "      <th>Movie Name</th>\n",
       "      <th>Year</th>\n",
       "      <th>Genre</th>\n",
       "    </tr>\n",
       "  </thead>\n",
       "  <tbody>\n",
       "    <tr>\n",
       "      <th>0</th>\n",
       "      <td>The Dark Knight</td>\n",
       "      <td>2008</td>\n",
       "      <td>Action</td>\n",
       "    </tr>\n",
       "    <tr>\n",
       "      <th>1</th>\n",
       "      <td>The Lord of the Rings: The Return of the King</td>\n",
       "      <td>2003</td>\n",
       "      <td>Action</td>\n",
       "    </tr>\n",
       "    <tr>\n",
       "      <th>2</th>\n",
       "      <td>The Lord of the Rings: The Fellowship of the Ring</td>\n",
       "      <td>2001</td>\n",
       "      <td>Action</td>\n",
       "    </tr>\n",
       "    <tr>\n",
       "      <th>3</th>\n",
       "      <td>Inception</td>\n",
       "      <td>2010</td>\n",
       "      <td>Action</td>\n",
       "    </tr>\n",
       "    <tr>\n",
       "      <th>4</th>\n",
       "      <td>The Lord of the Rings: The Two Towers</td>\n",
       "      <td>2002</td>\n",
       "      <td>Action</td>\n",
       "    </tr>\n",
       "    <tr>\n",
       "      <th>...</th>\n",
       "      <td>...</td>\n",
       "      <td>...</td>\n",
       "      <td>...</td>\n",
       "    </tr>\n",
       "    <tr>\n",
       "      <th>3532</th>\n",
       "      <td>Tristan + Isolde</td>\n",
       "      <td>2006</td>\n",
       "      <td>NaN</td>\n",
       "    </tr>\n",
       "    <tr>\n",
       "      <th>3533</th>\n",
       "      <td>Green Zone</td>\n",
       "      <td>2010</td>\n",
       "      <td>NaN</td>\n",
       "    </tr>\n",
       "    <tr>\n",
       "      <th>3534</th>\n",
       "      <td>Under the Shadow</td>\n",
       "      <td>2016</td>\n",
       "      <td>NaN</td>\n",
       "    </tr>\n",
       "    <tr>\n",
       "      <th>3535</th>\n",
       "      <td>The Hunting Party</td>\n",
       "      <td>2007</td>\n",
       "      <td>NaN</td>\n",
       "    </tr>\n",
       "    <tr>\n",
       "      <th>3536</th>\n",
       "      <td>Che: Part Two</td>\n",
       "      <td>2008</td>\n",
       "      <td>NaN</td>\n",
       "    </tr>\n",
       "  </tbody>\n",
       "</table>\n",
       "<p>3537 rows × 3 columns</p>\n",
       "</div>"
      ],
      "text/plain": [
       "                                            Movie Name   Year   Genre\n",
       "0                                       The Dark Knight  2008  Action\n",
       "1         The Lord of the Rings: The Return of the King  2003  Action\n",
       "2     The Lord of the Rings: The Fellowship of the Ring  2001  Action\n",
       "3                                             Inception  2010  Action\n",
       "4                 The Lord of the Rings: The Two Towers  2002  Action\n",
       "...                                                 ...   ...     ...\n",
       "3532                                   Tristan + Isolde  2006     NaN\n",
       "3533                                         Green Zone  2010     NaN\n",
       "3534                                   Under the Shadow  2016     NaN\n",
       "3535                                  The Hunting Party  2007     NaN\n",
       "3536                                      Che: Part Two  2008     NaN\n",
       "\n",
       "[3537 rows x 3 columns]"
      ]
     },
     "execution_count": 3,
     "metadata": {},
     "output_type": "execute_result"
    }
   ],
   "source": [
    "df"
   ]
  },
  {
   "cell_type": "code",
   "execution_count": 4,
   "id": "ca4b4fef",
   "metadata": {},
   "outputs": [
    {
     "name": "stdout",
     "output_type": "stream",
     "text": [
      "Requirement already satisfied: requests in c:\\programdata\\anaconda3\\lib\\site-packages (2.27.1)"
     ]
    },
    {
     "name": "stderr",
     "output_type": "stream",
     "text": [
      "WARNING: Ignoring invalid distribution -qdm (c:\\programdata\\anaconda3\\lib\\site-packages)\n",
      "WARNING: Ignoring invalid distribution - (c:\\programdata\\anaconda3\\lib\\site-packages)\n",
      "WARNING: Ignoring invalid distribution -qdm (c:\\programdata\\anaconda3\\lib\\site-packages)\n",
      "WARNING: Ignoring invalid distribution - (c:\\programdata\\anaconda3\\lib\\site-packages)\n",
      "WARNING: Ignoring invalid distribution -qdm (c:\\programdata\\anaconda3\\lib\\site-packages)\n",
      "WARNING: Ignoring invalid distribution - (c:\\programdata\\anaconda3\\lib\\site-packages)\n",
      "WARNING: Ignoring invalid distribution -qdm (c:\\programdata\\anaconda3\\lib\\site-packages)\n",
      "WARNING: Ignoring invalid distribution - (c:\\programdata\\anaconda3\\lib\\site-packages)\n",
      "WARNING: Ignoring invalid distribution -qdm (c:\\programdata\\anaconda3\\lib\\site-packages)\n",
      "WARNING: Ignoring invalid distribution - (c:\\programdata\\anaconda3\\lib\\site-packages)\n",
      "WARNING: Ignoring invalid distribution -qdm (c:\\programdata\\anaconda3\\lib\\site-packages)\n",
      "WARNING: Ignoring invalid distribution - (c:\\programdata\\anaconda3\\lib\\site-packages)\n"
     ]
    },
    {
     "name": "stdout",
     "output_type": "stream",
     "text": [
      "\n",
      "Requirement already satisfied: idna<4,>=2.5 in c:\\programdata\\anaconda3\\lib\\site-packages (from requests) (3.3)\n",
      "Requirement already satisfied: charset-normalizer~=2.0.0 in c:\\programdata\\anaconda3\\lib\\site-packages (from requests) (2.0.4)\n",
      "Requirement already satisfied: urllib3<1.27,>=1.21.1 in c:\\programdata\\anaconda3\\lib\\site-packages (from requests) (1.26.9)\n",
      "Requirement already satisfied: certifi>=2017.4.17 in c:\\programdata\\anaconda3\\lib\\site-packages (from requests) (2021.10.8)\n"
     ]
    }
   ],
   "source": [
    "!pip install requests"
   ]
  },
  {
   "cell_type": "code",
   "execution_count": null,
   "id": "c842867a",
   "metadata": {},
   "outputs": [],
   "source": []
  },
  {
   "cell_type": "code",
   "execution_count": 5,
   "id": "00dc4d33",
   "metadata": {},
   "outputs": [],
   "source": [
    "import requests"
   ]
  },
  {
   "cell_type": "code",
   "execution_count": 11,
   "id": "a4bccc1b",
   "metadata": {},
   "outputs": [],
   "source": [
    "def getID(name):\n",
    "\n",
    "    # Replace YOUR_API_KEY with your actual TMDb API key\n",
    "    API_KEY = \"55fececf0f0381b18c9350096ffdfad6\"\n",
    "\n",
    "    # The title of the movie you want to search for\n",
    "    movie_title = name\n",
    "\n",
    "    # Construct the API endpoint URL for movie search\n",
    "    search_url = f\"https://api.themoviedb.org/3/search/movie?api_key={API_KEY}&query={movie_title}\"\n",
    "\n",
    "    # Make an HTTP GET request to the API endpoint\n",
    "    response = requests.get(search_url)\n",
    "\n",
    "    # If the request was successful, parse the JSON response and extract the movie ID\n",
    "    if response.status_code == 200:\n",
    "        search_results = response.json()\n",
    "\n",
    "        if len(search_results['results']) > 0:\n",
    "            # Retrieve the ID of the first search result (assuming it matches the movie title)\n",
    "            movie_id = search_results['results'][0]['id']\n",
    "        else:\n",
    "            return \"Error, no results found\"\n",
    "\n",
    "        return movie_id\n",
    "    else:\n",
    "        return \"Error\"\n"
   ]
  },
  {
   "cell_type": "code",
   "execution_count": 12,
   "id": "c559dda9",
   "metadata": {},
   "outputs": [],
   "source": [
    "def getInfo(movie_id):\n",
    "\n",
    "    # Replace YOUR_API_KEY with your actual TMDb API key\n",
    "    API_KEY = \"55fececf0f0381b18c9350096ffdfad6\"\n",
    "\n",
    "    # The ID of the movie you want to retrieve information for\n",
    "\n",
    "    # Construct the API endpoint URL\n",
    "    url = f\"https://api.themoviedb.org/3/movie/{movie_id}?api_key={API_KEY}\"\n",
    "\n",
    "    # Make an HTTP GET request to the API endpoint\n",
    "    response = requests.get(url)\n",
    "\n",
    "    # If the request was successful, parse the JSON response and extract the desired information\n",
    "    if response.status_code == 200:\n",
    "        movie_data = response.json()\n",
    "        return movie_data\n",
    "\n",
    "    else:\n",
    "        return \"Error\""
   ]
  },
  {
   "cell_type": "code",
   "execution_count": 14,
   "id": "6381bbac",
   "metadata": {},
   "outputs": [
    {
     "name": "stdout",
     "output_type": "stream",
     "text": [
      "155\n"
     ]
    }
   ],
   "source": [
    "ID = getID(df[\"Movie Name \"][0])\n",
    "print(ID)\n",
    "if type(ID) == int:\n",
    "    getInfo(getID(df[\"Movie Name \"][0])).keys()"
   ]
  },
  {
   "cell_type": "code",
   "execution_count": null,
   "id": "4432f668",
   "metadata": {},
   "outputs": [],
   "source": []
  },
  {
   "cell_type": "code",
   "execution_count": 10,
   "id": "8fb7cfa4",
   "metadata": {},
   "outputs": [],
   "source": [
    "adult = []\n",
    "budget = []\n",
    "genres = []\n",
    "original_language = []\n",
    "overview = []\n",
    "popularity = []\n",
    "production_companies = []\n",
    "production_countries = []\n",
    "release_date = []\n",
    "revenue = []\n",
    "runtime = []\n",
    "spoken_languages = []\n",
    "tagline = []\n",
    "vote_average = []\n",
    "vote_count = []"
   ]
  },
  {
   "cell_type": "code",
   "execution_count": null,
   "id": "a47fb618",
   "metadata": {
    "scrolled": true
   },
   "outputs": [
    {
     "name": "stdout",
     "output_type": "stream",
     "text": [
      "Taegukgi hwinalrimyeo no search results found\n",
      "Karigurashi no Arietty no search results found\n",
      "Karigurashi no Arietty no search results found\n",
      "Kal Hee no search results found\n",
      "Gisaengchung no search results found\n",
      "Gisaengchung no search results found\n",
      "Fa Yeung Nin Wah no search results found\n",
      "Karigurashi no Arietty no search results found\n",
      "Karigurashi no Arietty no search results found\n"
     ]
    }
   ],
   "source": [
    "for i in range(len(df)):\n",
    "    # Generate the filename for the JSON file for this row\n",
    "    ID = getID(df[\"Movie Name \"][i])\n",
    "    if type(ID) == int:\n",
    "        file = getInfo(ID).keys()\n",
    "    else:\n",
    "        print(df['Movie Name '][i], \"no search results found\")\n",
    "    "
   ]
  },
  {
   "cell_type": "code",
   "execution_count": null,
   "id": "af4efdbc",
   "metadata": {},
   "outputs": [],
   "source": []
  }
 ],
 "metadata": {
  "kernelspec": {
   "display_name": "Python 3 (ipykernel)",
   "language": "python",
   "name": "python3"
  },
  "language_info": {
   "codemirror_mode": {
    "name": "ipython",
    "version": 3
   },
   "file_extension": ".py",
   "mimetype": "text/x-python",
   "name": "python",
   "nbconvert_exporter": "python",
   "pygments_lexer": "ipython3",
   "version": "3.9.12"
  }
 },
 "nbformat": 4,
 "nbformat_minor": 5
}
